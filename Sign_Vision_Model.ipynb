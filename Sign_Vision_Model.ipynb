{
 "cells": [
  {
   "cell_type": "code",
   "execution_count": 1,
   "metadata": {
    "colab": {
     "base_uri": "https://localhost:8080/"
    },
    "id": "-CzsC7bt6Mzs",
    "outputId": "fa62fa59-f17e-4e51-a71d-2cfa0b3c0145",
    "ExecuteTime": {
     "end_time": "2024-04-19T02:00:02.167797Z",
     "start_time": "2024-04-19T01:59:59.075321Z"
    }
   },
   "outputs": [],
   "source": [
    "import struct\n",
    "import random\n",
    "import numpy as np # linear algebra\n",
    "import pandas as pd # data processing, CSV file I/O (e.g. pd.read_csv)\n",
    "import matplotlib.pyplot as plt\n",
    "import seaborn as sns\n",
    "import tensorflow as tf\n",
    "from tensorflow import keras\n",
    "from tensorflow.keras import layers\n",
    "from array import array\n",
    "from os.path  import join\n",
    "from tensorflow.keras.models import Sequential\n",
    "from sklearn.model_selection import train_test_split\n",
    "from tensorflow.keras.callbacks import ReduceLROnPlateau\n",
    "from sklearn.metrics import confusion_matrix, classification_report\n",
    "from tensorflow.keras.layers import Conv2D, MaxPool2D, Flatten, Dense, Dropout, BatchNormalization\n",
    "\n",
    "import os\n",
    "for dirname, _, filenames in os.walk('sign-vision-model/data'):\n",
    "    for filename in filenames:\n",
    "        print(os.path.join(dirname, filename))"
   ]
  },
  {
   "cell_type": "code",
   "execution_count": 2,
   "metadata": {
    "id": "-Xzc7iPq6W1x",
    "ExecuteTime": {
     "end_time": "2024-04-19T02:00:03.143652Z",
     "start_time": "2024-04-19T02:00:02.169463Z"
    }
   },
   "outputs": [],
   "source": [
    "train_df = pd.read_csv(\"data/sign_mnist_train/sign_mnist_train.csv\")\n",
    "test_df = pd.read_csv(\"data/sign_mnist_test/sign_mnist_test.csv\")"
   ]
  },
  {
   "cell_type": "code",
   "execution_count": 3,
   "metadata": {
    "colab": {
     "base_uri": "https://localhost:8080/",
     "height": 256
    },
    "id": "4Ze93BRa6yzb",
    "outputId": "9c6eb819-9dfd-4799-c4e3-8f60d5d12b02",
    "ExecuteTime": {
     "end_time": "2024-04-19T02:00:03.156086Z",
     "start_time": "2024-04-19T02:00:03.144339Z"
    }
   },
   "outputs": [
    {
     "data": {
      "text/plain": "   label  pixel1  pixel2  pixel3  pixel4  pixel5  pixel6  pixel7  pixel8  \\\n0      3     107     118     127     134     139     143     146     150   \n1      6     155     157     156     156     156     157     156     158   \n2      2     187     188     188     187     187     186     187     188   \n3      2     211     211     212     212     211     210     211     210   \n4     13     164     167     170     172     176     179     180     184   \n\n   pixel9  ...  pixel775  pixel776  pixel777  pixel778  pixel779  pixel780  \\\n0     153  ...       207       207       207       207       206       206   \n1     158  ...        69       149       128        87        94       163   \n2     187  ...       202       201       200       199       198       199   \n3     210  ...       235       234       233       231       230       226   \n4     185  ...        92       105       105       108       133       163   \n\n   pixel781  pixel782  pixel783  pixel784  \n0       206       204       203       202  \n1       175       103       135       149  \n2       198       195       194       195  \n3       225       222       229       163  \n4       157       163       164       179  \n\n[5 rows x 785 columns]",
      "text/html": "<div>\n<style scoped>\n    .dataframe tbody tr th:only-of-type {\n        vertical-align: middle;\n    }\n\n    .dataframe tbody tr th {\n        vertical-align: top;\n    }\n\n    .dataframe thead th {\n        text-align: right;\n    }\n</style>\n<table border=\"1\" class=\"dataframe\">\n  <thead>\n    <tr style=\"text-align: right;\">\n      <th></th>\n      <th>label</th>\n      <th>pixel1</th>\n      <th>pixel2</th>\n      <th>pixel3</th>\n      <th>pixel4</th>\n      <th>pixel5</th>\n      <th>pixel6</th>\n      <th>pixel7</th>\n      <th>pixel8</th>\n      <th>pixel9</th>\n      <th>...</th>\n      <th>pixel775</th>\n      <th>pixel776</th>\n      <th>pixel777</th>\n      <th>pixel778</th>\n      <th>pixel779</th>\n      <th>pixel780</th>\n      <th>pixel781</th>\n      <th>pixel782</th>\n      <th>pixel783</th>\n      <th>pixel784</th>\n    </tr>\n  </thead>\n  <tbody>\n    <tr>\n      <th>0</th>\n      <td>3</td>\n      <td>107</td>\n      <td>118</td>\n      <td>127</td>\n      <td>134</td>\n      <td>139</td>\n      <td>143</td>\n      <td>146</td>\n      <td>150</td>\n      <td>153</td>\n      <td>...</td>\n      <td>207</td>\n      <td>207</td>\n      <td>207</td>\n      <td>207</td>\n      <td>206</td>\n      <td>206</td>\n      <td>206</td>\n      <td>204</td>\n      <td>203</td>\n      <td>202</td>\n    </tr>\n    <tr>\n      <th>1</th>\n      <td>6</td>\n      <td>155</td>\n      <td>157</td>\n      <td>156</td>\n      <td>156</td>\n      <td>156</td>\n      <td>157</td>\n      <td>156</td>\n      <td>158</td>\n      <td>158</td>\n      <td>...</td>\n      <td>69</td>\n      <td>149</td>\n      <td>128</td>\n      <td>87</td>\n      <td>94</td>\n      <td>163</td>\n      <td>175</td>\n      <td>103</td>\n      <td>135</td>\n      <td>149</td>\n    </tr>\n    <tr>\n      <th>2</th>\n      <td>2</td>\n      <td>187</td>\n      <td>188</td>\n      <td>188</td>\n      <td>187</td>\n      <td>187</td>\n      <td>186</td>\n      <td>187</td>\n      <td>188</td>\n      <td>187</td>\n      <td>...</td>\n      <td>202</td>\n      <td>201</td>\n      <td>200</td>\n      <td>199</td>\n      <td>198</td>\n      <td>199</td>\n      <td>198</td>\n      <td>195</td>\n      <td>194</td>\n      <td>195</td>\n    </tr>\n    <tr>\n      <th>3</th>\n      <td>2</td>\n      <td>211</td>\n      <td>211</td>\n      <td>212</td>\n      <td>212</td>\n      <td>211</td>\n      <td>210</td>\n      <td>211</td>\n      <td>210</td>\n      <td>210</td>\n      <td>...</td>\n      <td>235</td>\n      <td>234</td>\n      <td>233</td>\n      <td>231</td>\n      <td>230</td>\n      <td>226</td>\n      <td>225</td>\n      <td>222</td>\n      <td>229</td>\n      <td>163</td>\n    </tr>\n    <tr>\n      <th>4</th>\n      <td>13</td>\n      <td>164</td>\n      <td>167</td>\n      <td>170</td>\n      <td>172</td>\n      <td>176</td>\n      <td>179</td>\n      <td>180</td>\n      <td>184</td>\n      <td>185</td>\n      <td>...</td>\n      <td>92</td>\n      <td>105</td>\n      <td>105</td>\n      <td>108</td>\n      <td>133</td>\n      <td>163</td>\n      <td>157</td>\n      <td>163</td>\n      <td>164</td>\n      <td>179</td>\n    </tr>\n  </tbody>\n</table>\n<p>5 rows × 785 columns</p>\n</div>"
     },
     "execution_count": 3,
     "metadata": {},
     "output_type": "execute_result"
    }
   ],
   "source": [
    "# View the first few rows of the training data set\n",
    "train_df.head()"
   ]
  },
  {
   "cell_type": "code",
   "execution_count": 4,
   "metadata": {
    "colab": {
     "base_uri": "https://localhost:8080/",
     "height": 661
    },
    "id": "m7xaW8wt8HWY",
    "outputId": "18a93852-01c2-455a-ed57-dd5aebf909ce",
    "ExecuteTime": {
     "end_time": "2024-04-19T02:00:03.355722Z",
     "start_time": "2024-04-19T02:00:03.156902Z"
    }
   },
   "outputs": [
    {
     "data": {
      "text/plain": "<Axes: ylabel='count'>"
     },
     "execution_count": 4,
     "metadata": {},
     "output_type": "execute_result"
    },
    {
     "data": {
      "text/plain": "<Figure size 1400x800 with 1 Axes>",
      "image/png": "[encoded data removed]"
     },
     "metadata": {},
     "output_type": "display_data"
    }
   ],
   "source": [
    "# Plot graph of labels\n",
    "labels = train_df[\"label\"].values\n",
    "plt.figure(figsize = (14,8))\n",
    "sns.countplot(x=labels)"
   ]
  },
  {
   "cell_type": "code",
   "execution_count": 5,
   "metadata": {
    "colab": {
     "base_uri": "https://localhost:8080/"
    },
    "id": "4aQxaukm8Q2T",
    "outputId": "7c867bab-c879-49a7-8b48-3b0abcad9b0e",
    "ExecuteTime": {
     "end_time": "2024-04-19T02:00:03.365221Z",
     "start_time": "2024-04-19T02:00:03.359149Z"
    }
   },
   "outputs": [
    {
     "data": {
      "text/plain": "((27455, 785), (7172, 785))"
     },
     "execution_count": 5,
     "metadata": {},
     "output_type": "execute_result"
    }
   ],
   "source": [
    "train_df.shape, test_df.shape"
   ]
  },
  {
   "cell_type": "code",
   "execution_count": 6,
   "metadata": {
    "id": "PsKPS_js8XMw",
    "ExecuteTime": {
     "end_time": "2024-04-19T02:00:03.426429Z",
     "start_time": "2024-04-19T02:00:03.366583Z"
    }
   },
   "outputs": [],
   "source": [
    "# Drop label columns from data sets\n",
    "x_train = train_df.drop([\"label\"],axis=1)\n",
    "x_test = test_df.drop([\"label\"],axis=1)\n",
    "\n",
    "y_train = train_df['label']\n",
    "y_test = test_df['label']\n",
    "\n",
    "del train_df['label']\n",
    "del test_df['label']"
   ]
  },
  {
   "cell_type": "code",
   "execution_count": 7,
   "metadata": {
    "id": "xgjQPSK68cI7",
    "ExecuteTime": {
     "end_time": "2024-04-19T02:00:03.472827Z",
     "start_time": "2024-04-19T02:00:03.429720Z"
    }
   },
   "outputs": [],
   "source": [
    "# Greyscale normalization\n",
    "x_train = x_train/255\n",
    "x_test = x_test/255\n",
    "\n",
    "# Reshape data from 1-D to 3-D so it will be accepted by the CNN model\n",
    "x_train = x_train.values.reshape(-1,28,28,1)\n",
    "x_test = x_test.values.reshape(-1,28,28,1)"
   ]
  },
  {
   "cell_type": "code",
   "execution_count": 8,
   "metadata": {
    "colab": {
     "base_uri": "https://localhost:8080/",
     "height": 581
    },
    "id": "1LcTGK1N8e70",
    "outputId": "d1fa684e-234f-4703-c224-535375d2dff9",
    "ExecuteTime": {
     "end_time": "2024-04-19T02:00:03.759964Z",
     "start_time": "2024-04-19T02:00:03.473508Z"
    }
   },
   "outputs": [
    {
     "data": {
      "text/plain": "<Figure size 900x700 with 6 Axes>",
      "image/png": "[encoded data removed]"
     },
     "metadata": {},
     "output_type": "display_data"
    }
   ],
   "source": [
    "# Check out some sample images of what we've done so far\n",
    "plt.figure(figsize=(9,7))\n",
    "for i in range(6):\n",
    "    plt.subplot(2,3,i+1)\n",
    "    plt.imshow(x_train[i],cmap='gray')\n",
    "    plt.xlabel(np.argmax(y_train[i]))\n",
    "\n",
    "plt.show()"
   ]
  },
  {
   "cell_type": "code",
   "execution_count": 9,
   "metadata": {
    "id": "E-S1pYLp8jmD",
    "ExecuteTime": {
     "end_time": "2024-04-19T02:00:03.769695Z",
     "start_time": "2024-04-19T02:00:03.761062Z"
    }
   },
   "outputs": [],
   "source": [
    "# Convert integer labels into binary form using Label Binarizer\n",
    "from sklearn.preprocessing import LabelBinarizer\n",
    "label_binarizer = LabelBinarizer()\n",
    "y_train = label_binarizer.fit_transform(y_train)\n",
    "y_test = label_binarizer.fit_transform(y_test)"
   ]
  },
  {
   "cell_type": "code",
   "execution_count": 10,
   "metadata": {
    "colab": {
     "base_uri": "https://localhost:8080/"
    },
    "id": "sUUoNWlu8nRp",
    "outputId": "a0bb2fba-3059-416d-f9bb-ba5544147564",
    "ExecuteTime": {
     "end_time": "2024-04-19T02:00:03.893114Z",
     "start_time": "2024-04-19T02:00:03.770923Z"
    }
   },
   "outputs": [
    {
     "name": "stdout",
     "output_type": "stream",
     "text": [
      "x_train shape (21964, 28, 28, 1)\n",
      "x_test shape (5491, 28, 28, 1)\n",
      "y_train shape (21964, 24)\n",
      "y_test shape (5491, 24)\n"
     ]
    }
   ],
   "source": [
    "# Train validation split\n",
    "from sklearn.model_selection import train_test_split\n",
    "x_train, x_val, y_train, y_val = train_test_split(x_train, y_train, test_size=0.2, random_state=42)\n",
    "\n",
    "print(\"x_train shape\",x_train.shape)\n",
    "print(\"x_test shape\",x_val.shape)\n",
    "print(\"y_train shape\",y_train.shape)\n",
    "print(\"y_test shape\",y_val.shape)"
   ]
  },
  {
   "cell_type": "code",
   "execution_count": 11,
   "metadata": {
    "id": "dTyXTv-P8po4",
    "ExecuteTime": {
     "end_time": "2024-04-19T02:00:03.923461Z",
     "start_time": "2024-04-19T02:00:03.893975Z"
    }
   },
   "outputs": [],
   "source": [
    "# Augment data to prevent overfitting/bias\n",
    "datagen = tf.keras.preprocessing.image.ImageDataGenerator(\n",
    "        # Set input mean to 0 over the dataset\n",
    "        featurewise_center=False,\n",
    "        # Set each sample mean to 0\n",
    "        samplewise_center=False,\n",
    "        # Divide inputs by std of the dataset\n",
    "        featurewise_std_normalization=False,\n",
    "        # Divide each input by its std\n",
    "        samplewise_std_normalization=False,\n",
    "        # Apply ZCA whitening\n",
    "        zca_whitening=False,\n",
    "        # Randomly rotate images in the range (degrees, 0 to 180)\n",
    "        rotation_range=10,\n",
    "        # Randomly zoom image\n",
    "        zoom_range = 0.1,\n",
    "        # Randomly shift images horizontally (fraction of total width)\n",
    "        width_shift_range=0.1,\n",
    "        # Randomly shift images vertically (fraction of total height)\n",
    "        height_shift_range=0.1,\n",
    "        # Randomly flip images\n",
    "        horizontal_flip=False,\n",
    "        # Randomly flip images\n",
    "        vertical_flip=False)\n",
    "\n",
    "datagen.fit(x_train)"
   ]
  },
  {
   "cell_type": "code",
   "execution_count": 12,
   "metadata": {
    "id": "W9q9t7Xl8sJK",
    "ExecuteTime": {
     "end_time": "2024-04-19T02:00:03.926716Z",
     "start_time": "2024-04-19T02:00:03.924516Z"
    }
   },
   "outputs": [],
   "source": [
    "# Reduce learning rate when a metric has stopped improving so the model will move on\n",
    "learning_rate_reduction = ReduceLROnPlateau(monitor='val_accuracy', patience = 2, verbose=1,factor=0.5, min_lr=0.00001)"
   ]
  },
  {
   "cell_type": "code",
   "execution_count": 13,
   "metadata": {
    "colab": {
     "base_uri": "https://localhost:8080/"
    },
    "id": "ZByBI-vz8wEw",
    "outputId": "e8ee473d-e324-4b42-8b68-b398ef9096bc",
    "ExecuteTime": {
     "end_time": "2024-04-19T02:00:04.018431Z",
     "start_time": "2024-04-19T02:00:03.927464Z"
    }
   },
   "outputs": [
    {
     "name": "stdout",
     "output_type": "stream",
     "text": [
      "Model: \"sequential\"\n",
      "_________________________________________________________________\n",
      " Layer (type)                Output Shape              Param #   \n",
      "=================================================================\n",
      " conv2d (Conv2D)             (None, 28, 28, 75)        750       \n",
      "                                                                 \n",
      " batch_normalization (Batch  (None, 28, 28, 75)        300       \n",
      " Normalization)                                                  \n",
      "                                                                 \n",
      " max_pooling2d (MaxPooling2  (None, 14, 14, 75)        0         \n",
      " D)                                                              \n",
      "                                                                 \n",
      " conv2d_1 (Conv2D)           (None, 14, 14, 50)        33800     \n",
      "                                                                 \n",
      " dropout (Dropout)           (None, 14, 14, 50)        0         \n",
      "                                                                 \n",
      " batch_normalization_1 (Bat  (None, 14, 14, 50)        200       \n",
      " chNormalization)                                                \n",
      "                                                                 \n",
      " max_pooling2d_1 (MaxPoolin  (None, 7, 7, 50)          0         \n",
      " g2D)                                                            \n",
      "                                                                 \n",
      " conv2d_2 (Conv2D)           (None, 7, 7, 25)          11275     \n",
      "                                                                 \n",
      " batch_normalization_2 (Bat  (None, 7, 7, 25)          100       \n",
      " chNormalization)                                                \n",
      "                                                                 \n",
      " max_pooling2d_2 (MaxPoolin  (None, 4, 4, 25)          0         \n",
      " g2D)                                                            \n",
      "                                                                 \n",
      " flatten (Flatten)           (None, 400)               0         \n",
      "                                                                 \n",
      " dense (Dense)               (None, 512)               205312    \n",
      "                                                                 \n",
      " dropout_1 (Dropout)         (None, 512)               0         \n",
      "                                                                 \n",
      " dense_1 (Dense)             (None, 24)                12312     \n",
      "                                                                 \n",
      "=================================================================\n",
      "Total params: 264049 (1.01 MB)\n",
      "Trainable params: 263749 (1.01 MB)\n",
      "Non-trainable params: 300 (1.17 KB)\n",
      "_________________________________________________________________\n"
     ]
    }
   ],
   "source": [
    "model = Sequential()\n",
    "\n",
    "model.add(Conv2D(75 , (3,3) , strides = 1 , padding = 'same' , activation = 'relu' , input_shape = (28,28,1)))\n",
    "model.add(BatchNormalization())\n",
    "model.add(MaxPool2D((2,2) , strides = 2 , padding = 'same'))\n",
    "\n",
    "model.add(Conv2D(50 , (3,3) , strides = 1 , padding = 'same' , activation = 'relu'))\n",
    "model.add(Dropout(0.2))\n",
    "model.add(BatchNormalization())\n",
    "model.add(MaxPool2D((2,2) , strides = 2 , padding = 'same'))\n",
    "\n",
    "model.add(Conv2D(25 , (3,3) , strides = 1 , padding = 'same' , activation = 'relu'))\n",
    "model.add(BatchNormalization())\n",
    "model.add(MaxPool2D((2,2) , strides = 2 , padding = 'same'))\n",
    "\n",
    "# Flatten feature maps into a one-dimensional vector to be fed into the fully connected layers\n",
    "model.add(Flatten())\n",
    "\n",
    "model.add(Dense(units = 512 , activation = 'relu'))\n",
    "model.add(Dropout(0.3))\n",
    "model.add(Dense(units = 24 , activation = 'softmax'))\n",
    "\n",
    "#Use Adam optimization algorithm\n",
    "model.compile(optimizer = 'adam' , loss = 'categorical_crossentropy' , metrics = ['accuracy'])\n",
    "\n",
    "model.summary()"
   ]
  },
  {
   "cell_type": "code",
   "execution_count": 14,
   "metadata": {
    "colab": {
     "base_uri": "https://localhost:8080/"
    },
    "id": "zspwnmoV8zas",
    "outputId": "a7fe97ee-5b43-42a3-e5ca-b0f95debde2a",
    "ExecuteTime": {
     "end_time": "2024-04-19T02:03:37.863769Z",
     "start_time": "2024-04-19T02:00:04.019160Z"
    }
   },
   "outputs": [
    {
     "name": "stdout",
     "output_type": "stream",
     "text": [
      "Epoch 1/20\n",
      "172/172 [==============================] - 11s 64ms/step - loss: 1.2553 - accuracy: 0.6088 - val_loss: 3.8756 - val_accuracy: 0.0738 - lr: 0.0010\n",
      "Epoch 2/20\n",
      "172/172 [==============================] - 11s 63ms/step - loss: 0.2827 - accuracy: 0.9086 - val_loss: 3.3088 - val_accuracy: 0.2098 - lr: 0.0010\n",
      "Epoch 3/20\n",
      "172/172 [==============================] - 11s 62ms/step - loss: 0.1387 - accuracy: 0.9551 - val_loss: 1.0377 - val_accuracy: 0.6472 - lr: 0.0010\n",
      "Epoch 4/20\n",
      "172/172 [==============================] - 10s 61ms/step - loss: 0.0825 - accuracy: 0.9735 - val_loss: 0.1097 - val_accuracy: 0.9618 - lr: 0.0010\n",
      "Epoch 5/20\n",
      "172/172 [==============================] - 11s 64ms/step - loss: 0.0617 - accuracy: 0.9807 - val_loss: 0.0517 - val_accuracy: 0.9886 - lr: 0.0010\n",
      "Epoch 6/20\n",
      "172/172 [==============================] - 10s 58ms/step - loss: 0.0495 - accuracy: 0.9842 - val_loss: 0.1335 - val_accuracy: 0.9516 - lr: 0.0010\n",
      "Epoch 7/20\n",
      "172/172 [==============================] - ETA: 0s - loss: 0.0371 - accuracy: 0.9874\n",
      "Epoch 7: ReduceLROnPlateau reducing learning rate to 0.0005000000237487257.\n",
      "172/172 [==============================] - 10s 59ms/step - loss: 0.0371 - accuracy: 0.9874 - val_loss: 0.1796 - val_accuracy: 0.9359 - lr: 0.0010\n",
      "Epoch 8/20\n",
      "172/172 [==============================] - 10s 59ms/step - loss: 0.0227 - accuracy: 0.9934 - val_loss: 0.0151 - val_accuracy: 0.9968 - lr: 5.0000e-04\n",
      "Epoch 9/20\n",
      "172/172 [==============================] - 10s 60ms/step - loss: 0.0173 - accuracy: 0.9946 - val_loss: 0.0061 - val_accuracy: 0.9994 - lr: 5.0000e-04\n",
      "Epoch 10/20\n",
      "172/172 [==============================] - 11s 64ms/step - loss: 0.0168 - accuracy: 0.9953 - val_loss: 0.0052 - val_accuracy: 0.9994 - lr: 5.0000e-04\n",
      "Epoch 11/20\n",
      "171/172 [============================>.] - ETA: 0s - loss: 0.0147 - accuracy: 0.9954\n",
      "Epoch 11: ReduceLROnPlateau reducing learning rate to 0.0002500000118743628.\n",
      "172/172 [==============================] - 12s 71ms/step - loss: 0.0148 - accuracy: 0.9953 - val_loss: 0.0397 - val_accuracy: 0.9842 - lr: 5.0000e-04\n",
      "Epoch 12/20\n",
      "172/172 [==============================] - 11s 63ms/step - loss: 0.0124 - accuracy: 0.9962 - val_loss: 0.0026 - val_accuracy: 0.9999 - lr: 2.5000e-04\n",
      "Epoch 13/20\n",
      "172/172 [==============================] - 11s 63ms/step - loss: 0.0093 - accuracy: 0.9974 - val_loss: 0.0023 - val_accuracy: 1.0000 - lr: 2.5000e-04\n",
      "Epoch 14/20\n",
      "172/172 [==============================] - 11s 61ms/step - loss: 0.0097 - accuracy: 0.9974 - val_loss: 0.0027 - val_accuracy: 0.9993 - lr: 2.5000e-04\n",
      "Epoch 15/20\n",
      "172/172 [==============================] - ETA: 0s - loss: 0.0072 - accuracy: 0.9983\n",
      "Epoch 15: ReduceLROnPlateau reducing learning rate to 0.0001250000059371814.\n",
      "172/172 [==============================] - 10s 60ms/step - loss: 0.0072 - accuracy: 0.9983 - val_loss: 0.0069 - val_accuracy: 0.9975 - lr: 2.5000e-04\n",
      "Epoch 16/20\n",
      "172/172 [==============================] - 11s 66ms/step - loss: 0.0070 - accuracy: 0.9984 - val_loss: 0.0046 - val_accuracy: 0.9975 - lr: 1.2500e-04\n",
      "Epoch 17/20\n",
      "172/172 [==============================] - ETA: 0s - loss: 0.0062 - accuracy: 0.9983\n",
      "Epoch 17: ReduceLROnPlateau reducing learning rate to 6.25000029685907e-05.\n",
      "172/172 [==============================] - 11s 62ms/step - loss: 0.0062 - accuracy: 0.9983 - val_loss: 0.0033 - val_accuracy: 0.9983 - lr: 1.2500e-04\n",
      "Epoch 18/20\n",
      "172/172 [==============================] - 10s 59ms/step - loss: 0.0059 - accuracy: 0.9982 - val_loss: 0.0011 - val_accuracy: 1.0000 - lr: 6.2500e-05\n",
      "Epoch 19/20\n",
      "172/172 [==============================] - ETA: 0s - loss: 0.0053 - accuracy: 0.9986\n",
      "Epoch 19: ReduceLROnPlateau reducing learning rate to 3.125000148429535e-05.\n",
      "172/172 [==============================] - 10s 60ms/step - loss: 0.0053 - accuracy: 0.9986 - val_loss: 0.0012 - val_accuracy: 1.0000 - lr: 6.2500e-05\n",
      "Epoch 20/20\n",
      "172/172 [==============================] - 11s 61ms/step - loss: 0.0056 - accuracy: 0.9985 - val_loss: 0.0015 - val_accuracy: 1.0000 - lr: 3.1250e-05\n"
     ]
    }
   ],
   "source": [
    "history = model.fit(datagen.flow(x_train,y_train, batch_size = 128) ,\n",
    "                    epochs = 20 ,\n",
    "                    validation_data = (x_test, y_test) ,\n",
    "                    callbacks = [learning_rate_reduction])"
   ]
  },
  {
   "cell_type": "code",
   "execution_count": 15,
   "metadata": {
    "colab": {
     "base_uri": "https://localhost:8080/"
    },
    "id": "qEeQU7Tw83Wj",
    "outputId": "501ae52a-2515-448e-87d2-c55225d95b0a",
    "ExecuteTime": {
     "end_time": "2024-04-19T02:03:39.272431Z",
     "start_time": "2024-04-19T02:03:37.865285Z"
    }
   },
   "outputs": [
    {
     "name": "stdout",
     "output_type": "stream",
     "text": [
      "225/225 [==============================] - 1s 6ms/step - loss: 0.0015 - accuracy: 1.0000\n",
      "Accuracy of model: 100.0 %\n"
     ]
    }
   ],
   "source": [
    "print(\"Accuracy of model:\" , model.evaluate(x_test,y_test)[1]*100 , \"%\")"
   ]
  },
  {
   "cell_type": "code",
   "execution_count": 16,
   "metadata": {
    "colab": {
     "base_uri": "https://localhost:8080/"
    },
    "id": "3lr60HiY6qXO",
    "outputId": "4e4c8024-0002-4636-d979-752a11938427",
    "ExecuteTime": {
     "end_time": "2024-04-19T02:03:39.275180Z",
     "start_time": "2024-04-19T02:03:39.273243Z"
    }
   },
   "outputs": [],
   "source": [
    "## Use to save current model\n",
    "# import joblib\n",
    "# joblib.dump(model, 'sign_vision_model.joblib')\n",
    "\n",
    "## Use to load the previous model\n",
    "# joblib.load"
   ]
  },
  {
   "cell_type": "code",
   "execution_count": 17,
   "metadata": {
    "colab": {
     "base_uri": "https://localhost:8080/"
    },
    "id": "D7eaZmMAGSPf",
    "outputId": "888ac201-cd33-46e9-8981-0b19bdc91a96",
    "ExecuteTime": {
     "end_time": "2024-04-19T02:03:40.686970Z",
     "start_time": "2024-04-19T02:03:39.275849Z"
    }
   },
   "outputs": [
    {
     "name": "stdout",
     "output_type": "stream",
     "text": [
      "225/225 [==============================] - 1s 6ms/step\n"
     ]
    },
    {
     "name": "stderr",
     "output_type": "stream",
     "text": [
      "/Users/amyvaughn/anaconda3/envs/sign-vision/lib/python3.8/site-packages/keras/src/engine/training.py:3000: UserWarning: You are saving your model as an HDF5 file via `model.save()`. This file format is considered legacy. We recommend using instead the native Keras format, e.g. `model.save('my_model.keras')`.\n",
      "  saving_api.save_model(\n"
     ]
    }
   ],
   "source": [
    "# Generate predictions for the test set\n",
    "predictions = model.predict(x_test)\n",
    "model.save('model.h5')\n",
    "\n",
    "# Convert probabilities back to class labels\n",
    "y_pred = np.argmax(predictions, axis=1)\n",
    "\n",
    "y_true = np.argmax(y_test, axis=1)"
   ]
  },
  {
   "cell_type": "code",
   "execution_count": 18,
   "metadata": {
    "colab": {
     "base_uri": "https://localhost:8080/"
    },
    "id": "9dxWFsTvDzTj",
    "outputId": "0bff17a2-9810-46c1-8305-f989fc845c70",
    "ExecuteTime": {
     "end_time": "2024-04-19T02:03:40.698213Z",
     "start_time": "2024-04-19T02:03:40.687809Z"
    }
   },
   "outputs": [
    {
     "name": "stdout",
     "output_type": "stream",
     "text": [
      "Precision: 1.0, Recall: 1.0, F1 Score: 1.0\n"
     ]
    }
   ],
   "source": [
    "from sklearn.metrics import precision_score, recall_score, f1_score\n",
    "\n",
    "# Calculate the precision, recall, and F1 score\n",
    "precision = precision_score(y_true, y_pred, average='macro')\n",
    "recall = recall_score(y_true, y_pred, average='macro')\n",
    "f1 = f1_score(y_true, y_pred, average='macro')\n",
    "\n",
    "print(f\"Precision: {precision}, Recall: {recall}, F1 Score: {f1}\")"
   ]
  },
  {
   "cell_type": "code",
   "execution_count": 19,
   "metadata": {
    "colab": {
     "base_uri": "https://localhost:8080/"
    },
    "id": "lOCLf4b3D06R",
    "outputId": "6a6a7c34-8b6f-487b-b853-7b71e105071f",
    "ExecuteTime": {
     "end_time": "2024-04-19T02:03:40.704725Z",
     "start_time": "2024-04-19T02:03:40.699087Z"
    }
   },
   "outputs": [
    {
     "name": "stdout",
     "output_type": "stream",
     "text": [
      "Specificity for class 0: 1.0\n",
      "Specificity for class 1: 1.0\n",
      "Specificity for class 2: 1.0\n",
      "Specificity for class 3: 1.0\n",
      "Specificity for class 4: 1.0\n",
      "Specificity for class 5: 1.0\n",
      "Specificity for class 6: 1.0\n",
      "Specificity for class 7: 1.0\n",
      "Specificity for class 8: 1.0\n",
      "Specificity for class 9: 1.0\n",
      "Specificity for class 10: 1.0\n",
      "Specificity for class 11: 1.0\n",
      "Specificity for class 12: 1.0\n",
      "Specificity for class 13: 1.0\n",
      "Specificity for class 14: 1.0\n",
      "Specificity for class 15: 1.0\n",
      "Specificity for class 16: 1.0\n",
      "Specificity for class 17: 1.0\n",
      "Specificity for class 18: 1.0\n",
      "Specificity for class 19: 1.0\n",
      "Specificity for class 20: 1.0\n",
      "Specificity for class 21: 1.0\n",
      "Specificity for class 22: 1.0\n",
      "Specificity for class 23: 1.0\n"
     ]
    }
   ],
   "source": [
    "import numpy as np\n",
    "from sklearn.metrics import confusion_matrix\n",
    "\n",
    "cm = confusion_matrix(y_true, y_pred)\n",
    "specificity_list = []\n",
    "\n",
    "# Calculate specificity for each class\n",
    "for i in range(len(cm)):\n",
    "    tn = np.sum(cm) - np.sum(cm[i, :]) - np.sum(cm[:, i]) + cm[i, i]\n",
    "    fp = np.sum(cm[:, i]) - cm[i, i]\n",
    "    specificity = tn / (tn + fp)\n",
    "    specificity_list.append(specificity)\n",
    "\n",
    "# Specificity value for each class\n",
    "for index, specificity in enumerate(specificity_list):\n",
    "    print(f\"Specificity for class {index}: {specificity}\")"
   ]
  },
  {
   "cell_type": "code",
   "execution_count": 19,
   "metadata": {
    "id": "zZmUaCsZI4Pq",
    "ExecuteTime": {
     "end_time": "2024-04-19T02:03:40.706714Z",
     "start_time": "2024-04-19T02:03:40.705388Z"
    }
   },
   "outputs": [],
   "source": []
  }
 ],
 "metadata": {
  "accelerator": "GPU",
  "colab": {
   "gpuType": "T4",
   "provenance": []
  },
  "kernelspec": {
   "display_name": "Python 3 (ipykernel)",
   "language": "python",
   "name": "python3"
  },
  "language_info": {
   "codemirror_mode": {
    "name": "ipython",
    "version": 3
   },
   "file_extension": ".py",
   "mimetype": "text/x-python",
   "name": "python",
   "nbconvert_exporter": "python",
   "pygments_lexer": "ipython3",
   "version": "3.11.8"
  }
 },
 "nbformat": 4,
 "nbformat_minor": 0
}
